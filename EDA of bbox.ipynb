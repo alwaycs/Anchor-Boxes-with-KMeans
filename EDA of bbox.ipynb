{
 "cells": [
  {
   "cell_type": "markdown",
   "metadata": {},
   "source": [
    "# Anchor Boxes Analysis using K-Means"
   ]
  },
  {
   "cell_type": "markdown",
   "metadata": {},
   "source": [
    "### Section 1"
   ]
  },
  {
   "cell_type": "code",
   "execution_count": 1,
   "metadata": {},
   "outputs": [],
   "source": [
    "import pandas as pd\n",
    "import numpy as np\n",
    "import matplotlib.pyplot as plt\n",
    "import math\n",
    "import seaborn as sns\n",
    "%matplotlib inline\n",
    "import os\n",
    "import cv2\n",
    "\n",
    "import warnings\n",
    "warnings.filterwarnings('ignore')"
   ]
  },
  {
   "cell_type": "markdown",
   "metadata": {},
   "source": [
    "### with Image resizing (correct way!)\n",
    "\n",
    "#### Read csv\n",
    "A csv was made from xml file using \"xml_to_csv.py\""
   ]
  },
  {
   "cell_type": "code",
   "execution_count": 2,
   "metadata": {},
   "outputs": [],
   "source": [
    "#Read the dataset\n",
    "data = pd.read_csv('all_labels.csv')\n",
    "\n",
    "#utility function to get width & height\n",
    "def change_to_wh (data):\n",
    "    data['w'] = data['xmax'] - data['xmin'] + 1\n",
    "    data['h'] = data['ymax'] - data['ymin'] + 1\n",
    "    return data\n",
    "\n",
    "min_dimension = 480\n",
    "max_dimension = 720\n",
    "\n",
    "# function from Tensorflow Object Detection API to resize image\n",
    "def _compute_new_static_size(width, height, min_dimension, max_dimension):\n",
    "    orig_height = height\n",
    "    orig_width = width\n",
    "    orig_min_dim = min(orig_height, orig_width)\n",
    "  \n",
    "    # Calculates the larger of the possible sizes\n",
    "    large_scale_factor = min_dimension / float(orig_min_dim)\n",
    "      # Scaling orig_(height|width) by large_scale_factor will make the smaller\n",
    "      # dimension equal to min_dimension, save for floating point rounding errors.\n",
    "      # For reasonably-sized images, taking the nearest integer will reliably\n",
    "      # eliminate this error.\n",
    "    large_height = int(round(orig_height * large_scale_factor))\n",
    "    large_width = int(round(orig_width * large_scale_factor))\n",
    "    large_size = [large_height, large_width]\n",
    "    if max_dimension:\n",
    "    # Calculates the smaller of the possible sizes, use that if the larger\n",
    "    # is too big.\n",
    "        orig_max_dim = max(orig_height, orig_width)\n",
    "        small_scale_factor = max_dimension / float(orig_max_dim)\n",
    "    # Scaling orig_(height|width) by small_scale_factor will make the larger\n",
    "    # dimension equal to max_dimension, save for floating point rounding\n",
    "    # errors. For reasonably-sized images, taking the nearest integer will\n",
    "    # reliably eliminate this error.\n",
    "        small_height = int(round(orig_height * small_scale_factor))\n",
    "        small_width = int(round(orig_width * small_scale_factor))\n",
    "        small_size = [small_height, small_width]\n",
    "        new_size = large_size\n",
    "    if max(large_size) > max_dimension:\n",
    "        new_size = small_size\n",
    "    else:\n",
    "        new_size = large_size\n",
    "    \n",
    "    return new_size[1], new_size[0]\n",
    "\n",
    "\n",
    "\n",
    "\n",
    "\n"
   ]
  },
  {
   "cell_type": "code",
   "execution_count": 3,
   "metadata": {},
   "outputs": [
    {
     "data": {
      "text/html": [
       "<div>\n",
       "<style scoped>\n",
       "    .dataframe tbody tr th:only-of-type {\n",
       "        vertical-align: middle;\n",
       "    }\n",
       "\n",
       "    .dataframe tbody tr th {\n",
       "        vertical-align: top;\n",
       "    }\n",
       "\n",
       "    .dataframe thead th {\n",
       "        text-align: right;\n",
       "    }\n",
       "</style>\n",
       "<table border=\"1\" class=\"dataframe\">\n",
       "  <thead>\n",
       "    <tr style=\"text-align: right;\">\n",
       "      <th></th>\n",
       "      <th>width</th>\n",
       "      <th>height</th>\n",
       "      <th>xmin</th>\n",
       "      <th>ymin</th>\n",
       "      <th>xmax</th>\n",
       "      <th>ymax</th>\n",
       "    </tr>\n",
       "  </thead>\n",
       "  <tbody>\n",
       "    <tr>\n",
       "      <th>count</th>\n",
       "      <td>146952.000000</td>\n",
       "      <td>146952.000000</td>\n",
       "      <td>146952.000000</td>\n",
       "      <td>146952.000000</td>\n",
       "      <td>146952.000000</td>\n",
       "      <td>146952.000000</td>\n",
       "    </tr>\n",
       "    <tr>\n",
       "      <th>mean</th>\n",
       "      <td>1191.792204</td>\n",
       "      <td>624.325167</td>\n",
       "      <td>516.367133</td>\n",
       "      <td>336.308414</td>\n",
       "      <td>706.414986</td>\n",
       "      <td>409.032446</td>\n",
       "    </tr>\n",
       "    <tr>\n",
       "      <th>std</th>\n",
       "      <td>623.476198</td>\n",
       "      <td>356.101334</td>\n",
       "      <td>484.807032</td>\n",
       "      <td>284.304852</td>\n",
       "      <td>539.210254</td>\n",
       "      <td>288.773183</td>\n",
       "    </tr>\n",
       "    <tr>\n",
       "      <th>min</th>\n",
       "      <td>122.000000</td>\n",
       "      <td>64.000000</td>\n",
       "      <td>-1.000000</td>\n",
       "      <td>-1.000000</td>\n",
       "      <td>-1.000000</td>\n",
       "      <td>-1.000000</td>\n",
       "    </tr>\n",
       "    <tr>\n",
       "      <th>25%</th>\n",
       "      <td>851.750000</td>\n",
       "      <td>392.000000</td>\n",
       "      <td>167.000000</td>\n",
       "      <td>145.000000</td>\n",
       "      <td>331.750000</td>\n",
       "      <td>221.000000</td>\n",
       "    </tr>\n",
       "    <tr>\n",
       "      <th>50%</th>\n",
       "      <td>993.000000</td>\n",
       "      <td>534.000000</td>\n",
       "      <td>404.000000</td>\n",
       "      <td>265.000000</td>\n",
       "      <td>619.000000</td>\n",
       "      <td>335.000000</td>\n",
       "    </tr>\n",
       "    <tr>\n",
       "      <th>75%</th>\n",
       "      <td>1290.000000</td>\n",
       "      <td>726.000000</td>\n",
       "      <td>720.000000</td>\n",
       "      <td>440.000000</td>\n",
       "      <td>912.000000</td>\n",
       "      <td>511.000000</td>\n",
       "    </tr>\n",
       "    <tr>\n",
       "      <th>max</th>\n",
       "      <td>4438.000000</td>\n",
       "      <td>3403.000000</td>\n",
       "      <td>4255.000000</td>\n",
       "      <td>2885.000000</td>\n",
       "      <td>4435.000000</td>\n",
       "      <td>3081.000000</td>\n",
       "    </tr>\n",
       "  </tbody>\n",
       "</table>\n",
       "</div>"
      ],
      "text/plain": [
       "               width         height           xmin           ymin  \\\n",
       "count  146952.000000  146952.000000  146952.000000  146952.000000   \n",
       "mean     1191.792204     624.325167     516.367133     336.308414   \n",
       "std       623.476198     356.101334     484.807032     284.304852   \n",
       "min       122.000000      64.000000      -1.000000      -1.000000   \n",
       "25%       851.750000     392.000000     167.000000     145.000000   \n",
       "50%       993.000000     534.000000     404.000000     265.000000   \n",
       "75%      1290.000000     726.000000     720.000000     440.000000   \n",
       "max      4438.000000    3403.000000    4255.000000    2885.000000   \n",
       "\n",
       "                xmax           ymax  \n",
       "count  146952.000000  146952.000000  \n",
       "mean      706.414986     409.032446  \n",
       "std       539.210254     288.773183  \n",
       "min        -1.000000      -1.000000  \n",
       "25%       331.750000     221.000000  \n",
       "50%       619.000000     335.000000  \n",
       "75%       912.000000     511.000000  \n",
       "max      4435.000000    3081.000000  "
      ]
     },
     "execution_count": 3,
     "metadata": {},
     "output_type": "execute_result"
    }
   ],
   "source": [
    "# Initial Data\n",
    "data.describe()"
   ]
  },
  {
   "cell_type": "code",
   "execution_count": 4,
   "metadata": {},
   "outputs": [],
   "source": [
    "data = change_to_wh(data)\n",
    "data['new_w'], data['new_h'] = np.vectorize(_compute_new_static_size)(data['width'], \n",
    "                                                                      data['height'], min_dimension, max_dimension)\n",
    "data['b_w'] = data['new_w']*data['w']/data['width']\n",
    "data['b_h'] = data['new_h']*data['h']/data['height']\n",
    "data['b_ar'] = data['b_w']/data['b_h']"
   ]
  },
  {
   "cell_type": "code",
   "execution_count": 5,
   "metadata": {},
   "outputs": [
    {
     "data": {
      "text/plain": [
       "<seaborn.axisgrid.JointGrid at 0x7fddede34908>"
      ]
     },
     "execution_count": 5,
     "metadata": {},
     "output_type": "execute_result"
    },
    {
     "data": {
      "image/png": "[encoded data removed]",
      "text/plain": [
       "<Figure size 432x432 with 3 Axes>"
      ]
     },
     "metadata": {
      "needs_background": "light"
     },
     "output_type": "display_data"
    },
    {
     "data": {
      "image/png": "[encoded data removed]",
      "text/plain": [
       "<Figure size 432x432 with 3 Axes>"
      ]
     },
     "metadata": {
      "needs_background": "light"
     },
     "output_type": "display_data"
    }
   ],
   "source": [
    "#Joint Plot of b_w and b_h\n",
    "sns.jointplot(x=\"b_w\", y=\"b_h\", data=data)\n",
    "sns.jointplot(x=\"b_w\", y=\"b_h\", data=data, kind='kde')"
   ]
  },
  {
   "cell_type": "markdown",
   "metadata": {},
   "source": [
    "### Calculate the base box size!\n"
   ]
  },
  {
   "cell_type": "code",
   "execution_count": 6,
   "metadata": {},
   "outputs": [
    {
     "data": {
      "image/png": "[encoded data removed]",
      "text/plain": [
       "<Figure size 432x288 with 1 Axes>"
      ]
     },
     "metadata": {
      "needs_background": "light"
     },
     "output_type": "display_data"
    },
    {
     "data": {
      "text/plain": [
       "'\\n    \\n'"
      ]
     },
     "execution_count": 6,
     "metadata": {},
     "output_type": "execute_result"
    }
   ],
   "source": [
    "# def count_base_size(width, height, input_array=[64,96,128,196,212,256,512]):\n",
    "def count_base_size(width, height, input_array=[32, 64, 128, 256, 512]):\n",
    "    result = {}\n",
    "    for ele in input_array:\n",
    "        result[str(ele)] = 0\n",
    "    result['rest'] = 0\n",
    "    \n",
    "#     import itertools\n",
    "#     for w,h in itertools.izip(width,height):\n",
    "    for w,h in zip(width,height):\n",
    "        done = False\n",
    "        for inp in input_array:\n",
    "            if w <= inp and h <= inp:\n",
    "                result[str(inp)] += 1\n",
    "                done = True\n",
    "        if done == False:\n",
    "            result['rest'] += 1\n",
    "            \n",
    "    return result\n",
    "    \n",
    "D = count_base_size(data[\"b_w\"].tolist(), data[\"b_h\"].tolist())\n",
    "import collections\n",
    "OD = collections.OrderedDict(sorted(D.items()))\n",
    "plt.bar(range(len(OD)), OD.values(), align='center')  # python 2.x\n",
    "plt.xticks(range(len(OD)), OD.keys())  # in python 2.x\n",
    "\n",
    "plt.show()\n",
    "\n",
    "\"\"\"\n",
    "    \n",
    "\"\"\"\n"
   ]
  },
  {
   "cell_type": "code",
   "execution_count": 7,
   "metadata": {},
   "outputs": [
    {
     "name": "stdout",
     "output_type": "stream",
     "text": [
      "OrderedDict([('128', 105473), ('256', 127193), ('32', 32414), ('512', 142688), ('64', 68198), ('rest', 4264)])\n"
     ]
    }
   ],
   "source": [
    "print(OD)"
   ]
  },
  {
   "cell_type": "code",
   "execution_count": 8,
   "metadata": {},
   "outputs": [
    {
     "data": {
      "text/html": [
       "<div>\n",
       "<style scoped>\n",
       "    .dataframe tbody tr th:only-of-type {\n",
       "        vertical-align: middle;\n",
       "    }\n",
       "\n",
       "    .dataframe tbody tr th {\n",
       "        vertical-align: top;\n",
       "    }\n",
       "\n",
       "    .dataframe thead th {\n",
       "        text-align: right;\n",
       "    }\n",
       "</style>\n",
       "<table border=\"1\" class=\"dataframe\">\n",
       "  <thead>\n",
       "    <tr style=\"text-align: right;\">\n",
       "      <th></th>\n",
       "      <th>width</th>\n",
       "      <th>height</th>\n",
       "      <th>xmin</th>\n",
       "      <th>ymin</th>\n",
       "      <th>xmax</th>\n",
       "      <th>ymax</th>\n",
       "      <th>w</th>\n",
       "      <th>h</th>\n",
       "      <th>new_w</th>\n",
       "      <th>new_h</th>\n",
       "      <th>b_w</th>\n",
       "      <th>b_h</th>\n",
       "      <th>b_ar</th>\n",
       "      <th>b_area_scale</th>\n",
       "    </tr>\n",
       "  </thead>\n",
       "  <tbody>\n",
       "    <tr>\n",
       "      <th>count</th>\n",
       "      <td>146952.000000</td>\n",
       "      <td>146952.000000</td>\n",
       "      <td>146952.000000</td>\n",
       "      <td>146952.000000</td>\n",
       "      <td>146952.000000</td>\n",
       "      <td>146952.000000</td>\n",
       "      <td>146952.000000</td>\n",
       "      <td>146952.000000</td>\n",
       "      <td>146952.000000</td>\n",
       "      <td>146952.000000</td>\n",
       "      <td>146952.000000</td>\n",
       "      <td>146952.000000</td>\n",
       "      <td>146952.000000</td>\n",
       "      <td>146952.000000</td>\n",
       "    </tr>\n",
       "    <tr>\n",
       "      <th>mean</th>\n",
       "      <td>1191.792204</td>\n",
       "      <td>624.325167</td>\n",
       "      <td>516.367133</td>\n",
       "      <td>336.308414</td>\n",
       "      <td>706.414986</td>\n",
       "      <td>409.032446</td>\n",
       "      <td>191.047852</td>\n",
       "      <td>73.724032</td>\n",
       "      <td>692.620352</td>\n",
       "      <td>366.410100</td>\n",
       "      <td>115.433512</td>\n",
       "      <td>44.728692</td>\n",
       "      <td>2.918334</td>\n",
       "      <td>0.425950</td>\n",
       "    </tr>\n",
       "    <tr>\n",
       "      <th>std</th>\n",
       "      <td>623.476198</td>\n",
       "      <td>356.101334</td>\n",
       "      <td>484.807032</td>\n",
       "      <td>284.304852</td>\n",
       "      <td>539.210254</td>\n",
       "      <td>288.773183</td>\n",
       "      <td>266.304260</td>\n",
       "      <td>84.737429</td>\n",
       "      <td>66.366102</td>\n",
       "      <td>105.174663</td>\n",
       "      <td>136.148738</td>\n",
       "      <td>42.744878</td>\n",
       "      <td>2.566563</td>\n",
       "      <td>0.502670</td>\n",
       "    </tr>\n",
       "    <tr>\n",
       "      <th>min</th>\n",
       "      <td>122.000000</td>\n",
       "      <td>64.000000</td>\n",
       "      <td>-1.000000</td>\n",
       "      <td>-1.000000</td>\n",
       "      <td>-1.000000</td>\n",
       "      <td>-1.000000</td>\n",
       "      <td>1.000000</td>\n",
       "      <td>1.000000</td>\n",
       "      <td>132.000000</td>\n",
       "      <td>84.000000</td>\n",
       "      <td>0.216411</td>\n",
       "      <td>0.216329</td>\n",
       "      <td>0.027690</td>\n",
       "      <td>0.003906</td>\n",
       "    </tr>\n",
       "    <tr>\n",
       "      <th>25%</th>\n",
       "      <td>851.750000</td>\n",
       "      <td>392.000000</td>\n",
       "      <td>167.000000</td>\n",
       "      <td>145.000000</td>\n",
       "      <td>331.750000</td>\n",
       "      <td>221.000000</td>\n",
       "      <td>44.000000</td>\n",
       "      <td>25.000000</td>\n",
       "      <td>720.000000</td>\n",
       "      <td>284.000000</td>\n",
       "      <td>28.856875</td>\n",
       "      <td>16.866002</td>\n",
       "      <td>1.178136</td>\n",
       "      <td>0.138328</td>\n",
       "    </tr>\n",
       "    <tr>\n",
       "      <th>50%</th>\n",
       "      <td>993.000000</td>\n",
       "      <td>534.000000</td>\n",
       "      <td>404.000000</td>\n",
       "      <td>265.000000</td>\n",
       "      <td>619.000000</td>\n",
       "      <td>335.000000</td>\n",
       "      <td>94.000000</td>\n",
       "      <td>44.000000</td>\n",
       "      <td>720.000000</td>\n",
       "      <td>365.000000</td>\n",
       "      <td>61.570049</td>\n",
       "      <td>28.936926</td>\n",
       "      <td>2.369891</td>\n",
       "      <td>0.250244</td>\n",
       "    </tr>\n",
       "    <tr>\n",
       "      <th>75%</th>\n",
       "      <td>1290.000000</td>\n",
       "      <td>726.000000</td>\n",
       "      <td>720.000000</td>\n",
       "      <td>440.000000</td>\n",
       "      <td>912.000000</td>\n",
       "      <td>511.000000</td>\n",
       "      <td>219.000000</td>\n",
       "      <td>91.000000</td>\n",
       "      <td>720.000000</td>\n",
       "      <td>467.000000</td>\n",
       "      <td>137.259119</td>\n",
       "      <td>58.343697</td>\n",
       "      <td>3.911955</td>\n",
       "      <td>0.499194</td>\n",
       "    </tr>\n",
       "    <tr>\n",
       "      <th>max</th>\n",
       "      <td>4438.000000</td>\n",
       "      <td>3403.000000</td>\n",
       "      <td>4255.000000</td>\n",
       "      <td>2885.000000</td>\n",
       "      <td>4435.000000</td>\n",
       "      <td>3081.000000</td>\n",
       "      <td>4033.000000</td>\n",
       "      <td>2190.000000</td>\n",
       "      <td>720.000000</td>\n",
       "      <td>720.000000</td>\n",
       "      <td>720.000000</td>\n",
       "      <td>664.995708</td>\n",
       "      <td>73.595431</td>\n",
       "      <td>7.049715</td>\n",
       "    </tr>\n",
       "  </tbody>\n",
       "</table>\n",
       "</div>"
      ],
      "text/plain": [
       "               width         height           xmin           ymin  \\\n",
       "count  146952.000000  146952.000000  146952.000000  146952.000000   \n",
       "mean     1191.792204     624.325167     516.367133     336.308414   \n",
       "std       623.476198     356.101334     484.807032     284.304852   \n",
       "min       122.000000      64.000000      -1.000000      -1.000000   \n",
       "25%       851.750000     392.000000     167.000000     145.000000   \n",
       "50%       993.000000     534.000000     404.000000     265.000000   \n",
       "75%      1290.000000     726.000000     720.000000     440.000000   \n",
       "max      4438.000000    3403.000000    4255.000000    2885.000000   \n",
       "\n",
       "                xmax           ymax              w              h  \\\n",
       "count  146952.000000  146952.000000  146952.000000  146952.000000   \n",
       "mean      706.414986     409.032446     191.047852      73.724032   \n",
       "std       539.210254     288.773183     266.304260      84.737429   \n",
       "min        -1.000000      -1.000000       1.000000       1.000000   \n",
       "25%       331.750000     221.000000      44.000000      25.000000   \n",
       "50%       619.000000     335.000000      94.000000      44.000000   \n",
       "75%       912.000000     511.000000     219.000000      91.000000   \n",
       "max      4435.000000    3081.000000    4033.000000    2190.000000   \n",
       "\n",
       "               new_w          new_h            b_w            b_h  \\\n",
       "count  146952.000000  146952.000000  146952.000000  146952.000000   \n",
       "mean      692.620352     366.410100     115.433512      44.728692   \n",
       "std        66.366102     105.174663     136.148738      42.744878   \n",
       "min       132.000000      84.000000       0.216411       0.216329   \n",
       "25%       720.000000     284.000000      28.856875      16.866002   \n",
       "50%       720.000000     365.000000      61.570049      28.936926   \n",
       "75%       720.000000     467.000000     137.259119      58.343697   \n",
       "max       720.000000     720.000000     720.000000     664.995708   \n",
       "\n",
       "                b_ar   b_area_scale  \n",
       "count  146952.000000  146952.000000  \n",
       "mean        2.918334       0.425950  \n",
       "std         2.566563       0.502670  \n",
       "min         0.027690       0.003906  \n",
       "25%         1.178136       0.138328  \n",
       "50%         2.369891       0.250244  \n",
       "75%         3.911955       0.499194  \n",
       "max        73.595431       7.049715  "
      ]
     },
     "execution_count": 8,
     "metadata": {},
     "output_type": "execute_result"
    }
   ],
   "source": [
    "# Area Scale\n",
    "base_box = 256*256\n",
    "data['b_area_scale'] = (data['w']*data['h']/(base_box)).apply(np.sqrt)\n",
    "data.describe()"
   ]
  },
  {
   "cell_type": "code",
   "execution_count": 9,
   "metadata": {},
   "outputs": [
    {
     "data": {
      "text/html": [
       "<div>\n",
       "<style scoped>\n",
       "    .dataframe tbody tr th:only-of-type {\n",
       "        vertical-align: middle;\n",
       "    }\n",
       "\n",
       "    .dataframe tbody tr th {\n",
       "        vertical-align: top;\n",
       "    }\n",
       "\n",
       "    .dataframe thead th {\n",
       "        text-align: right;\n",
       "    }\n",
       "</style>\n",
       "<table border=\"1\" class=\"dataframe\">\n",
       "  <thead>\n",
       "    <tr style=\"text-align: right;\">\n",
       "      <th></th>\n",
       "      <th>width</th>\n",
       "      <th>height</th>\n",
       "      <th>xmin</th>\n",
       "      <th>ymin</th>\n",
       "      <th>xmax</th>\n",
       "      <th>ymax</th>\n",
       "      <th>w</th>\n",
       "      <th>h</th>\n",
       "      <th>new_w</th>\n",
       "      <th>new_h</th>\n",
       "      <th>b_w</th>\n",
       "      <th>b_h</th>\n",
       "      <th>b_ar</th>\n",
       "      <th>b_area_scale</th>\n",
       "      <th>tf_scale</th>\n",
       "      <th>tf_scale_2</th>\n",
       "    </tr>\n",
       "  </thead>\n",
       "  <tbody>\n",
       "    <tr>\n",
       "      <th>count</th>\n",
       "      <td>146952.000000</td>\n",
       "      <td>146952.000000</td>\n",
       "      <td>146952.000000</td>\n",
       "      <td>146952.000000</td>\n",
       "      <td>146952.000000</td>\n",
       "      <td>146952.000000</td>\n",
       "      <td>146952.000000</td>\n",
       "      <td>146952.000000</td>\n",
       "      <td>146952.000000</td>\n",
       "      <td>146952.000000</td>\n",
       "      <td>146952.000000</td>\n",
       "      <td>146952.000000</td>\n",
       "      <td>146952.000000</td>\n",
       "      <td>146952.000000</td>\n",
       "      <td>146952.000000</td>\n",
       "      <td>146952.000000</td>\n",
       "    </tr>\n",
       "    <tr>\n",
       "      <th>mean</th>\n",
       "      <td>1191.792204</td>\n",
       "      <td>624.325167</td>\n",
       "      <td>516.367133</td>\n",
       "      <td>336.308414</td>\n",
       "      <td>706.414986</td>\n",
       "      <td>409.032446</td>\n",
       "      <td>191.047852</td>\n",
       "      <td>73.724032</td>\n",
       "      <td>692.620352</td>\n",
       "      <td>366.410100</td>\n",
       "      <td>115.433512</td>\n",
       "      <td>44.728692</td>\n",
       "      <td>2.918334</td>\n",
       "      <td>0.425950</td>\n",
       "      <td>0.257981</td>\n",
       "      <td>0.257981</td>\n",
       "    </tr>\n",
       "    <tr>\n",
       "      <th>std</th>\n",
       "      <td>623.476198</td>\n",
       "      <td>356.101334</td>\n",
       "      <td>484.807032</td>\n",
       "      <td>284.304852</td>\n",
       "      <td>539.210254</td>\n",
       "      <td>288.773183</td>\n",
       "      <td>266.304260</td>\n",
       "      <td>84.737429</td>\n",
       "      <td>66.366102</td>\n",
       "      <td>105.174663</td>\n",
       "      <td>136.148738</td>\n",
       "      <td>42.744878</td>\n",
       "      <td>2.566563</td>\n",
       "      <td>0.502670</td>\n",
       "      <td>0.252900</td>\n",
       "      <td>0.252900</td>\n",
       "    </tr>\n",
       "    <tr>\n",
       "      <th>min</th>\n",
       "      <td>122.000000</td>\n",
       "      <td>64.000000</td>\n",
       "      <td>-1.000000</td>\n",
       "      <td>-1.000000</td>\n",
       "      <td>-1.000000</td>\n",
       "      <td>-1.000000</td>\n",
       "      <td>1.000000</td>\n",
       "      <td>1.000000</td>\n",
       "      <td>132.000000</td>\n",
       "      <td>84.000000</td>\n",
       "      <td>0.216411</td>\n",
       "      <td>0.216329</td>\n",
       "      <td>0.027690</td>\n",
       "      <td>0.003906</td>\n",
       "      <td>0.000845</td>\n",
       "      <td>0.000845</td>\n",
       "    </tr>\n",
       "    <tr>\n",
       "      <th>25%</th>\n",
       "      <td>851.750000</td>\n",
       "      <td>392.000000</td>\n",
       "      <td>167.000000</td>\n",
       "      <td>145.000000</td>\n",
       "      <td>331.750000</td>\n",
       "      <td>221.000000</td>\n",
       "      <td>44.000000</td>\n",
       "      <td>25.000000</td>\n",
       "      <td>720.000000</td>\n",
       "      <td>284.000000</td>\n",
       "      <td>28.856875</td>\n",
       "      <td>16.866002</td>\n",
       "      <td>1.178136</td>\n",
       "      <td>0.138328</td>\n",
       "      <td>0.093444</td>\n",
       "      <td>0.093444</td>\n",
       "    </tr>\n",
       "    <tr>\n",
       "      <th>50%</th>\n",
       "      <td>993.000000</td>\n",
       "      <td>534.000000</td>\n",
       "      <td>404.000000</td>\n",
       "      <td>265.000000</td>\n",
       "      <td>619.000000</td>\n",
       "      <td>335.000000</td>\n",
       "      <td>94.000000</td>\n",
       "      <td>44.000000</td>\n",
       "      <td>720.000000</td>\n",
       "      <td>365.000000</td>\n",
       "      <td>61.570049</td>\n",
       "      <td>28.936926</td>\n",
       "      <td>2.369891</td>\n",
       "      <td>0.250244</td>\n",
       "      <td>0.166703</td>\n",
       "      <td>0.166703</td>\n",
       "    </tr>\n",
       "    <tr>\n",
       "      <th>75%</th>\n",
       "      <td>1290.000000</td>\n",
       "      <td>726.000000</td>\n",
       "      <td>720.000000</td>\n",
       "      <td>440.000000</td>\n",
       "      <td>912.000000</td>\n",
       "      <td>511.000000</td>\n",
       "      <td>219.000000</td>\n",
       "      <td>91.000000</td>\n",
       "      <td>720.000000</td>\n",
       "      <td>467.000000</td>\n",
       "      <td>137.259119</td>\n",
       "      <td>58.343697</td>\n",
       "      <td>3.911955</td>\n",
       "      <td>0.499194</td>\n",
       "      <td>0.305075</td>\n",
       "      <td>0.305075</td>\n",
       "    </tr>\n",
       "    <tr>\n",
       "      <th>max</th>\n",
       "      <td>4438.000000</td>\n",
       "      <td>3403.000000</td>\n",
       "      <td>4255.000000</td>\n",
       "      <td>2885.000000</td>\n",
       "      <td>4435.000000</td>\n",
       "      <td>3081.000000</td>\n",
       "      <td>4033.000000</td>\n",
       "      <td>2190.000000</td>\n",
       "      <td>720.000000</td>\n",
       "      <td>720.000000</td>\n",
       "      <td>720.000000</td>\n",
       "      <td>664.995708</td>\n",
       "      <td>73.595431</td>\n",
       "      <td>7.049715</td>\n",
       "      <td>1.724790</td>\n",
       "      <td>1.724790</td>\n",
       "    </tr>\n",
       "  </tbody>\n",
       "</table>\n",
       "</div>"
      ],
      "text/plain": [
       "               width         height           xmin           ymin  \\\n",
       "count  146952.000000  146952.000000  146952.000000  146952.000000   \n",
       "mean     1191.792204     624.325167     516.367133     336.308414   \n",
       "std       623.476198     356.101334     484.807032     284.304852   \n",
       "min       122.000000      64.000000      -1.000000      -1.000000   \n",
       "25%       851.750000     392.000000     167.000000     145.000000   \n",
       "50%       993.000000     534.000000     404.000000     265.000000   \n",
       "75%      1290.000000     726.000000     720.000000     440.000000   \n",
       "max      4438.000000    3403.000000    4255.000000    2885.000000   \n",
       "\n",
       "                xmax           ymax              w              h  \\\n",
       "count  146952.000000  146952.000000  146952.000000  146952.000000   \n",
       "mean      706.414986     409.032446     191.047852      73.724032   \n",
       "std       539.210254     288.773183     266.304260      84.737429   \n",
       "min        -1.000000      -1.000000       1.000000       1.000000   \n",
       "25%       331.750000     221.000000      44.000000      25.000000   \n",
       "50%       619.000000     335.000000      94.000000      44.000000   \n",
       "75%       912.000000     511.000000     219.000000      91.000000   \n",
       "max      4435.000000    3081.000000    4033.000000    2190.000000   \n",
       "\n",
       "               new_w          new_h            b_w            b_h  \\\n",
       "count  146952.000000  146952.000000  146952.000000  146952.000000   \n",
       "mean      692.620352     366.410100     115.433512      44.728692   \n",
       "std        66.366102     105.174663     136.148738      42.744878   \n",
       "min       132.000000      84.000000       0.216411       0.216329   \n",
       "25%       720.000000     284.000000      28.856875      16.866002   \n",
       "50%       720.000000     365.000000      61.570049      28.936926   \n",
       "75%       720.000000     467.000000     137.259119      58.343697   \n",
       "max       720.000000     720.000000     720.000000     664.995708   \n",
       "\n",
       "                b_ar   b_area_scale       tf_scale     tf_scale_2  \n",
       "count  146952.000000  146952.000000  146952.000000  146952.000000  \n",
       "mean        2.918334       0.425950       0.257981       0.257981  \n",
       "std         2.566563       0.502670       0.252900       0.252900  \n",
       "min         0.027690       0.003906       0.000845       0.000845  \n",
       "25%         1.178136       0.138328       0.093444       0.093444  \n",
       "50%         2.369891       0.250244       0.166703       0.166703  \n",
       "75%         3.911955       0.499194       0.305075       0.305075  \n",
       "max        73.595431       7.049715       1.724790       1.724790  "
      ]
     },
     "execution_count": 9,
     "metadata": {},
     "output_type": "execute_result"
    }
   ],
   "source": [
    "# TF scale\n",
    "base_anchor = 256\n",
    "data['tf_scale'] = data['b_h']*(data['b_ar']).apply(np.sqrt)/base_anchor\n",
    "data['tf_scale_2']= data['b_w']/((data['b_ar']).apply(np.sqrt)*base_anchor)\n",
    "data.describe()"
   ]
  },
  {
   "cell_type": "code",
   "execution_count": 10,
   "metadata": {},
   "outputs": [
    {
     "data": {
      "text/plain": [
       "Index(['filename', 'width', 'height', 'xmin', 'ymin', 'xmax', 'ymax', 'w', 'h',\n",
       "       'new_w', 'new_h', 'b_w', 'b_h', 'b_ar', 'b_area_scale', 'tf_scale',\n",
       "       'tf_scale_2'],\n",
       "      dtype='object')"
      ]
     },
     "execution_count": 10,
     "metadata": {},
     "output_type": "execute_result"
    }
   ],
   "source": [
    "data.columns"
   ]
  },
  {
   "cell_type": "markdown",
   "metadata": {},
   "source": [
    "## Clusterring\n",
    "\n",
    "### Eucledian Distance Based Clusterring\n",
    "\n",
    "### One by One (AR and Scale Separately)"
   ]
  },
  {
   "cell_type": "code",
   "execution_count": 11,
   "metadata": {},
   "outputs": [
    {
     "data": {
      "text/plain": [
       "[<matplotlib.lines.Line2D at 0x7fdde38bf4a8>]"
      ]
     },
     "execution_count": 11,
     "metadata": {},
     "output_type": "execute_result"
    },
    {
     "data": {
      "image/png": "[encoded data removed]",
      "text/plain": [
       "<Figure size 432x288 with 1 Axes>"
      ]
     },
     "metadata": {
      "needs_background": "light"
     },
     "output_type": "display_data"
    }
   ],
   "source": [
    "# Aspect Ratio\n",
    "X = data.iloc[:,13].values\n",
    "X = X.reshape(-1,1)\n",
    "\n",
    "\n",
    "loss = []\n",
    "from sklearn.cluster import KMeans\n",
    "for i in range(2,10):\n",
    "    K = KMeans(i, random_state=1)\n",
    "    labels = K.fit(X)\n",
    "    loss.append(labels.inertia_)\n",
    "\n",
    "plt.plot(loss)"
   ]
  },
  {
   "cell_type": "code",
   "execution_count": 12,
   "metadata": {},
   "outputs": [
    {
     "name": "stdout",
     "output_type": "stream",
     "text": [
      "b_ar\n",
      "Aspect Ratios:\n",
      "\n",
      "[[ 3.31539026]\n",
      " [ 1.19104837]\n",
      " [11.39099369]\n",
      " [ 6.01202845]\n",
      " [28.00154837]]\n"
     ]
    }
   ],
   "source": [
    "print(data.columns[13])\n",
    "\n",
    "from sklearn.cluster import KMeans\n",
    "K = KMeans(5, random_state=1)\n",
    "labels = K.fit(X)\n",
    "print(\"Aspect Ratios:\\n\")\n",
    "print(labels.cluster_centers_)"
   ]
  },
  {
   "cell_type": "code",
   "execution_count": 13,
   "metadata": {},
   "outputs": [
    {
     "data": {
      "text/plain": [
       "0.9999989074127402"
      ]
     },
     "execution_count": 13,
     "metadata": {},
     "output_type": "execute_result"
    }
   ],
   "source": [
    "# Correlation Check (ignore!)\n",
    "\n",
    "x = data['w']/data['h']\n",
    "\n",
    "data['b_ar'].corr(x)"
   ]
  },
  {
   "cell_type": "code",
   "execution_count": 14,
   "metadata": {},
   "outputs": [
    {
     "data": {
      "text/plain": [
       "[<matplotlib.lines.Line2D at 0x7fdde38e9940>]"
      ]
     },
     "execution_count": 14,
     "metadata": {},
     "output_type": "execute_result"
    },
    {
     "data": {
      "image/png": "[encoded data removed]",
      "text/plain": [
       "<Figure size 432x288 with 1 Axes>"
      ]
     },
     "metadata": {
      "needs_background": "light"
     },
     "output_type": "display_data"
    }
   ],
   "source": [
    "\n",
    "# TF_Scale Clusterring\n",
    "X = data.iloc[:,15].values\n",
    "X = X.reshape(-1,1)\n",
    "\n",
    "\n",
    "loss = []\n",
    "from sklearn.cluster import KMeans\n",
    "for i in range(2,10):\n",
    "    K = KMeans(i, random_state=1)\n",
    "    labels = K.fit(X)\n",
    "    loss.append(labels.inertia_)\n",
    "\n",
    "plt.plot(loss)"
   ]
  },
  {
   "cell_type": "code",
   "execution_count": 15,
   "metadata": {},
   "outputs": [
    {
     "data": {
      "text/plain": [
       "[<matplotlib.lines.Line2D at 0x7fdde38adb00>]"
      ]
     },
     "execution_count": 15,
     "metadata": {},
     "output_type": "execute_result"
    },
    {
     "data": {
      "image/png": "[encoded data removed]",
      "text/plain": [
       "<Figure size 432x288 with 1 Axes>"
      ]
     },
     "metadata": {
      "needs_background": "light"
     },
     "output_type": "display_data"
    }
   ],
   "source": [
    "# Plot of different scales\n",
    "plt.plot(X, 'o')"
   ]
  },
  {
   "cell_type": "code",
   "execution_count": 16,
   "metadata": {},
   "outputs": [
    {
     "name": "stdout",
     "output_type": "stream",
     "text": [
      "tf_scale\n"
     ]
    },
    {
     "data": {
      "text/plain": [
       "array([[0.4276121 ],\n",
       "       [0.09070686],\n",
       "       [0.72724788],\n",
       "       [1.05306377],\n",
       "       [0.22280384]])"
      ]
     },
     "execution_count": 16,
     "metadata": {},
     "output_type": "execute_result"
    }
   ],
   "source": [
    "print(data.columns[15])\n",
    "\n",
    "from sklearn.cluster import KMeans\n",
    "K = KMeans(5, random_state=1)\n",
    "labels = K.fit(X)\n",
    "labels.cluster_centers_"
   ]
  },
  {
   "cell_type": "code",
   "execution_count": 17,
   "metadata": {},
   "outputs": [
    {
     "data": {
      "text/plain": [
       "[<matplotlib.lines.Line2D at 0x7fdde3815cc0>]"
      ]
     },
     "execution_count": 17,
     "metadata": {},
     "output_type": "execute_result"
    },
    {
     "data": {
      "image/png": "[encoded data removed]",
      "text/plain": [
       "<Figure size 432x288 with 1 Axes>"
      ]
     },
     "metadata": {
      "needs_background": "light"
     },
     "output_type": "display_data"
    }
   ],
   "source": [
    "# area_Scale\n",
    "X = data.iloc[:,15].values\n",
    "X = X.reshape(-1,1)\n",
    "\n",
    "\n",
    "loss = []\n",
    "from sklearn.cluster import KMeans\n",
    "for i in range(2,10):\n",
    "    K = KMeans(i, random_state=1)\n",
    "    labels = K.fit(X)\n",
    "    loss.append(labels.inertia_)\n",
    "\n",
    "plt.plot(loss)"
   ]
  },
  {
   "cell_type": "code",
   "execution_count": 18,
   "metadata": {},
   "outputs": [
    {
     "name": "stdout",
     "output_type": "stream",
     "text": [
      "tf_scale\n"
     ]
    },
    {
     "data": {
      "text/plain": [
       "array([[0.27832151],\n",
       "       [0.97962408],\n",
       "       [0.10460288],\n",
       "       [0.60002131]])"
      ]
     },
     "execution_count": 18,
     "metadata": {},
     "output_type": "execute_result"
    }
   ],
   "source": [
    "print(data.columns[15])\n",
    "\n",
    "from sklearn.cluster import KMeans\n",
    "K = KMeans(4, random_state=1)\n",
    "labels = K.fit(X)\n",
    "labels.cluster_centers_"
   ]
  },
  {
   "cell_type": "markdown",
   "metadata": {},
   "source": [
    "## Clusterring using both width & height"
   ]
  },
  {
   "cell_type": "code",
   "execution_count": 19,
   "metadata": {},
   "outputs": [
    {
     "name": "stdout",
     "output_type": "stream",
     "text": [
      "Index(['b_w', 'b_h'], dtype='object')\n"
     ]
    },
    {
     "data": {
      "image/png": "[encoded data removed]",
      "text/plain": [
       "<Figure size 432x288 with 1 Axes>"
      ]
     },
     "metadata": {
      "needs_background": "light"
     },
     "output_type": "display_data"
    }
   ],
   "source": [
    "print(data.columns[11:13])\n",
    "X = data.as_matrix(columns=data.columns[11:13])\n",
    "\n",
    "from sklearn.cluster import KMeans\n",
    "K = KMeans(5, random_state=0)\n",
    "labels = K.fit(X)\n",
    "plt.scatter(X[:, 0], X[:, 1], c=labels.labels_,\n",
    "            s=50, cmap='viridis');"
   ]
  },
  {
   "cell_type": "code",
   "execution_count": 20,
   "metadata": {},
   "outputs": [
    {
     "name": "stdout",
     "output_type": "stream",
     "text": [
      "Aspect Ratios: \n",
      "[2.06638236 4.68166719 1.28734849 3.22304365 3.64220585]\n",
      "Scales: \n",
      "[0.26772882 0.99169652 0.11123729 0.45607511 0.75115601]\n"
     ]
    }
   ],
   "source": [
    "out = labels.cluster_centers_\n",
    "\n",
    "ar = out[:,0]/out[:,1]\n",
    "scale = out[:,1]*np.sqrt(ar)/256\n",
    "\n",
    "print(\"Aspect Ratios: \")\n",
    "print(ar)\n",
    "\n",
    "print(\"Scales: \")\n",
    "print (scale)"
   ]
  },
  {
   "cell_type": "markdown",
   "metadata": {},
   "source": [
    "### IOU based clusterring"
   ]
  },
  {
   "cell_type": "code",
   "execution_count": 21,
   "metadata": {},
   "outputs": [],
   "source": [
    "#utility functions for K-means\n",
    "import numpy as np\n",
    "\n",
    "\n",
    "def iou(box, clusters):\n",
    "    \"\"\"\n",
    "    Calculates the Intersection over Union (IoU) between a box and k clusters.\n",
    "    :param box: tuple or array, shifted to the origin (i. e. width and height)\n",
    "    :param clusters: numpy array of shape (k, 2) where k is the number of clusters\n",
    "    :return: numpy array of shape (k, 0) where k is the number of clusters\n",
    "    \"\"\"\n",
    "    x = np.minimum(clusters[:, 0], box[0])\n",
    "    y = np.minimum(clusters[:, 1], box[1])\n",
    "    if np.count_nonzero(x == 0) > 0 or np.count_nonzero(y == 0) > 0:\n",
    "        raise ValueError(\"Box has no area\")\n",
    "\n",
    "    intersection = x * y\n",
    "    box_area = box[0] * box[1]\n",
    "    cluster_area = clusters[:, 0] * clusters[:, 1]\n",
    "\n",
    "    iou_ = intersection / (box_area + cluster_area - intersection)\n",
    "\n",
    "    return iou_\n",
    "\n",
    "\n",
    "def avg_iou(boxes, clusters):\n",
    "    \"\"\"\n",
    "    Calculates the average Intersection over Union (IoU) between a numpy array of boxes and k clusters.\n",
    "    :param boxes: numpy array of shape (r, 2), where r is the number of rows\n",
    "    :param clusters: numpy array of shape (k, 2) where k is the number of clusters\n",
    "    :return: average IoU as a single float\n",
    "    \"\"\"\n",
    "    return np.mean([np.max(iou(boxes[i], clusters)) for i in range(boxes.shape[0])])\n",
    "\n",
    "\n",
    "def translate_boxes(boxes):\n",
    "    \"\"\"\n",
    "    Translates all the boxes to the origin.\n",
    "    :param boxes: numpy array of shape (r, 4)\n",
    "    :return: numpy array of shape (r, 2)\n",
    "    \"\"\"\n",
    "    new_boxes = boxes.copy()\n",
    "    for row in range(new_boxes.shape[0]):\n",
    "        new_boxes[row][2] = np.abs(new_boxes[row][2] - new_boxes[row][0])\n",
    "        new_boxes[row][3] = np.abs(new_boxes[row][3] - new_boxes[row][1])\n",
    "    return np.delete(new_boxes, [0, 1], axis=1)\n",
    "\n",
    "\n",
    "def kmeans(boxes, k, dist=np.median):\n",
    "    \"\"\"\n",
    "    Calculates k-means clustering with the Intersection over Union (IoU) metric.\n",
    "    :param boxes: numpy array of shape (r, 2), where r is the number of rows\n",
    "    :param k: number of clusters\n",
    "    :param dist: distance function\n",
    "    :return: numpy array of shape (k, 2)\n",
    "    \"\"\"\n",
    "    rows = boxes.shape[0]\n",
    "\n",
    "    distances = np.empty((rows, k))\n",
    "    last_clusters = np.zeros((rows,))\n",
    "\n",
    "    np.random.seed()\n",
    "\n",
    "    # the Forgy method will fail if the whole array contains the same rows\n",
    "    clusters = boxes[np.random.choice(rows, k, replace=False)]\n",
    "\n",
    "    while True:\n",
    "        for row in range(rows):\n",
    "            distances[row] = 1 - iou(boxes[row], clusters)\n",
    "\n",
    "        nearest_clusters = np.argmin(distances, axis=1)\n",
    "\n",
    "        if (last_clusters == nearest_clusters).all():\n",
    "            break\n",
    "\n",
    "        for cluster in range(k):\n",
    "            clusters[cluster] = dist(boxes[nearest_clusters == cluster], axis=0)\n",
    "\n",
    "        last_clusters = nearest_clusters\n",
    "\n",
    "    return clusters"
   ]
  },
  {
   "cell_type": "code",
   "execution_count": 22,
   "metadata": {},
   "outputs": [
    {
     "name": "stdout",
     "output_type": "stream",
     "text": [
      "Index(['b_w', 'b_h'], dtype='object')\n",
      "[[12.23946785  1.80030674]\n",
      " [56.91456921  0.52975796]\n",
      " [20.30693069  4.81633504]\n",
      " [32.24105461  2.06176448]\n",
      " [93.63159747  3.49183472]]\n"
     ]
    }
   ],
   "source": [
    "print(data.columns[11:13])\n",
    "X = data.as_matrix(columns=data.columns[12:14])\n",
    "\n",
    "# Cluster with 4 centers\n",
    "cl = kmeans(X, 5)\n",
    "print(cl)"
   ]
  },
  {
   "cell_type": "code",
   "execution_count": 23,
   "metadata": {},
   "outputs": [
    {
     "name": "stdout",
     "output_type": "stream",
     "text": [
      "[  6.79854583 107.43504313   4.21626206  15.63760306  26.8144414 ]\n",
      "[0.01833642 0.02144917 0.03863141 0.03184815 0.07063144]\n"
     ]
    }
   ],
   "source": [
    "ar_iou = cl[:,0]/cl[:,1]\n",
    "\n",
    "print(ar_iou)\n",
    "\n",
    "\n",
    "scale_iou = cl[:,1]*np.sqrt(ar_iou)/256\n",
    "print(scale_iou)"
   ]
  },
  {
   "cell_type": "code",
   "execution_count": null,
   "metadata": {},
   "outputs": [],
   "source": []
  }
 ],
 "metadata": {
  "kernelspec": {
   "display_name": "Python 3",
   "language": "python",
   "name": "python3"
  },
  "language_info": {
   "codemirror_mode": {
    "name": "ipython",
    "version": 3
   },
   "file_extension": ".py",
   "mimetype": "text/x-python",
   "name": "python",
   "nbconvert_exporter": "python",
   "pygments_lexer": "ipython3",
   "version": "3.6.7"
  }
 },
 "nbformat": 4,
 "nbformat_minor": 2
}
